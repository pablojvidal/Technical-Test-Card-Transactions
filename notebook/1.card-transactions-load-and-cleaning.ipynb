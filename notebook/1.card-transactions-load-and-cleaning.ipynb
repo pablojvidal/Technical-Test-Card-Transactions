{
 "cells": [
  {
   "cell_type": "markdown",
   "metadata": {},
   "source": [
    "# Birmingham Purchase Cards Transactions <a class='tocSkip'>\n",
    "-----\n",
    "## Pablo Javier Vidal\n",
    "\n"
   ]
  },
  {
   "cell_type": "markdown",
   "metadata": {},
   "source": [
    "## Import Libraries"
   ]
  },
  {
   "cell_type": "code",
   "execution_count": 78,
   "metadata": {},
   "outputs": [],
   "source": [
    "import os   # manage some tasks related with OS \n",
    "import pandas as pd   # pandas library to manage data in datafame stuctue\n",
    "import seaborn as sns; sns.set_theme(color_codes=True)   # a nice library for plot data\n",
    "import numpy as np    # library to manage math calculus and  1d and 2d numeric structure\n",
    "from zipfile import ZipFile  # library used just in case\n",
    "import matplotlib.pyplot as plt # library to plot\n",
    "\n",
    "# Warning configuration\n",
    "import warnings\n",
    "warnings.filterwarnings('ignore')"
   ]
  },
  {
   "cell_type": "markdown",
   "metadata": {},
   "source": [
    "## Work Paths"
   ]
  },
  {
   "cell_type": "markdown",
   "metadata": {},
   "source": [
    "Here you can define the access paths to the data and where they will be saved once all the files are joined."
   ]
  },
  {
   "cell_type": "code",
   "execution_count": 79,
   "metadata": {},
   "outputs": [],
   "source": [
    "working_path = 'D:/DATA SCIENCE/Tech test Fraud/dataset'   # main path for data\n",
    "name_zip_file = 'dataset.zip'   # main name of the zip dataset\n",
    "output_unified_data = \"D:/DATA SCIENCE/Tech test Fraud/dataset/unified\"   # main path for store the data merged\n",
    "file_name_output = \"/cleaned_data.csv\"   # name of the file that contains the data merged"
   ]
  },
  {
   "cell_type": "markdown",
   "metadata": {},
   "source": [
    "### Download the data and verify the column names in each dataset."
   ]
  },
  {
   "cell_type": "code",
   "execution_count": 80,
   "metadata": {},
   "outputs": [],
   "source": [
    "###  The zip file contain data between 2014 and 2019, in dataset folder exists some files to test all the files. \n",
    "###  If you need evaluate all the data,  uncomment the lines below \n",
    "\n",
    "#zf = ZipFile(working_path+\"/\"+name_zip_file, 'r')\n",
    "#zf.extractall(working_path)\n",
    "#zf.close()\n",
    "#archives = [file for file in os.listdir(path) if extension in file]"
   ]
  },
  {
   "cell_type": "markdown",
   "metadata": {},
   "source": [
    "For this initial analysis I'll take into account a window for Purchase Card Transactios from January 2017 to April 2017. This windows is taked in order \n",
    "Is important to take into account that there are some months missing.\n",
    "\n",
    "This data range is taken basically as an evaluation of the entire pipeline and for the time that some processing takes (around 10 minutes in some cases)."
   ]
  },
  {
   "cell_type": "code",
   "execution_count": 81,
   "metadata": {},
   "outputs": [],
   "source": [
    "#check if the path exists\n",
    "def create_ouput_path(path):\n",
    "    if not os.path.exists(path):\n",
    "        os.makedirs(path)"
   ]
  },
  {
   "cell_type": "markdown",
   "metadata": {},
   "source": [
    "The function **number_of_columns()** allows unify the naming convention in all split data sets.\n",
    "* For example: I find two different name variable variations for the same column data in different datasets (\"Directorate\" and \"Directorates\"). Also, I check that exists \"Directorate\" and \"Diretorate \" title with an exta space.\n",
    "* Then I could unify the data structure before unifying all the split data in a unique data set. \n",
    "* Additionally, as result,  the function calculates the cross columns of the entire data set."
   ]
  },
  {
   "cell_type": "code",
   "execution_count": 82,
   "metadata": {},
   "outputs": [],
   "source": [
    "\n",
    "\n",
    "def number_of_columns(path, extension='.xls' ):\n",
    "    archives = [file for file in os.listdir(path) if extension in file]\n",
    "    total_columns = []\n",
    "    print(\"-----------------------------\")\n",
    "    print(\"Number of Columns\")\n",
    "    print(\"-----------------------------\")\n",
    "    for archive in archives:\n",
    "        table = os.path.splitext(archive)[0]\n",
    "        df = pd.read_excel(path + \"/\" + archive)\n",
    "        columns = df.columns.to_list()\n",
    "\n",
    "        print(\"The number of columns of the the table \"+ str(table) + \" are : \" + str(len(columns)))\n",
    "        total_columns.append(set(columns))\n",
    "    print(\"-----------------------------\")\n",
    "    print(\"COLUMNS\")\n",
    "    print(\"-----------------------------\")\n",
    "    for i in range(len(total_columns) - 1):\n",
    "        table = os.path.splitext(archives[i])[0]\n",
    "        print(\"The columns of the table \"+ str(table) + \" are: \")\n",
    "        print(total_columns[i])\n",
    "    intersec_columns = total_columns[0]   \n",
    "    for i in range(len(total_columns) - 1):\n",
    "        print(\"--------------------------------------------------------------------\")\n",
    "        print(\"Intersection = \",intersec_columns)\n",
    "        print(\"Base data = \",total_columns[i])\n",
    "\n",
    "        intersec_columns = intersec_columns.intersection(total_columns[i])\n",
    "\n",
    "        print(\"Result = \",intersec_columns)\n",
    "    print(\"--------------------------------------\")\n",
    "    print(\"--  mutual columns in all archives  --\")\n",
    "    print(\"--------------------------------------\")\n",
    "    print(intersec_columns)\n",
    "    return intersec_columns"
   ]
  },
  {
   "cell_type": "code",
   "execution_count": 83,
   "metadata": {},
   "outputs": [
    {
     "name": "stdout",
     "output_type": "stream",
     "text": [
      "-----------------------------\n",
      "Number of Columns\n",
      "-----------------------------\n"
     ]
    },
    {
     "name": "stdout",
     "output_type": "stream",
     "text": [
      "The number of columns of the the table 2018-07 are : 16\n",
      "The number of columns of the the table 2018-08 are : 16\n",
      "The number of columns of the the table 2018-09 are : 16\n",
      "The number of columns of the the table 2018-10 are : 16\n",
      "The number of columns of the the table 2018-11 are : 16\n",
      "The number of columns of the the table 2018-12 are : 16\n",
      "-----------------------------\n",
      "COLUMNS\n",
      "-----------------------------\n",
      "The columns of the table 2018-07 are: \n",
      "{'BILLING CUR CODE', 'ORIGINAL GROSS AMT', 'MERCHANT NAME', 'DIRECTORATE', 'TRANS CAC CODE 3', 'CARD NUMBER', 'TRANS CAC DESC 2', 'TRANS CAC CODE 2', 'TRANS CAC CODE 1', 'TRANS TAX RATE', 'ORIGINAL CUR', 'TRANS TAX AMT', 'TRANS CAC DESC 1', 'TRANS DATE', 'BILLING GROSS AMT', 'TRANS VAT DESC'}\n",
      "The columns of the table 2018-08 are: \n",
      "{'BILLING CUR CODE', 'ORIGINAL GROSS AMT', 'MERCHANT NAME', 'DIRECTORATE', 'TRANS CAC CODE 3', 'CARD NUMBER', 'TRANS CAC DESC 2', 'TRANS CAC CODE 2', 'TRANS CAC CODE 1', 'TRANS TAX RATE', 'ORIGINAL CUR', 'TRANS TAX AMT', 'TRANS CAC DESC 1', 'TRANS DATE', 'BILLING GROSS AMT', 'TRANS VAT DESC'}\n",
      "The columns of the table 2018-09 are: \n",
      "{'BILLING CUR CODE', 'ORIGINAL GROSS AMT', 'MERCHANT NAME', 'DIRECTORATE', 'TRANS CAC CODE 3', 'CARD NUMBER', 'TRANS CAC DESC 2', 'TRANS CAC CODE 2', 'TRANS CAC CODE 1', 'TRANS TAX RATE', 'ORIGINAL CUR', 'TRANS TAX AMT', 'TRANS CAC DESC 1', 'TRANS DATE', 'BILLING GROSS AMT', 'TRANS VAT DESC'}\n",
      "The columns of the table 2018-10 are: \n",
      "{'BILLING CUR CODE', 'ORIGINAL GROSS AMT', 'MERCHANT NAME', 'DIRECTORATE', 'TRANS CAC CODE 3', 'CARD NUMBER', 'TRANS CAC DESC 2', 'TRANS CAC CODE 2', 'TRANS CAC CODE 1', 'TRANS TAX RATE', 'ORIGINAL CUR', 'TRANS TAX AMT', 'TRANS CAC DESC 1', 'TRANS DATE', 'BILLING GROSS AMT', 'TRANS VAT DESC'}\n",
      "The columns of the table 2018-11 are: \n",
      "{'BILLING CUR CODE', 'ORIGINAL GROSS AMT', 'MERCHANT NAME', 'DIRECTORATE', 'TRANS CAC CODE 3', 'CARD NUMBER', 'TRANS CAC DESC 2', 'TRANS CAC CODE 2', 'TRANS CAC CODE 1', 'TRANS TAX RATE', 'ORIGINAL CUR', 'TRANS TAX AMT', 'TRANS CAC DESC 1', 'TRANS DATE', 'BILLING GROSS AMT', 'TRANS VAT DESC'}\n",
      "--------------------------------------------------------------------\n",
      "Intersection =  {'BILLING CUR CODE', 'ORIGINAL GROSS AMT', 'MERCHANT NAME', 'DIRECTORATE', 'TRANS CAC CODE 3', 'CARD NUMBER', 'TRANS CAC DESC 2', 'TRANS CAC CODE 2', 'TRANS CAC CODE 1', 'TRANS TAX RATE', 'ORIGINAL CUR', 'TRANS TAX AMT', 'TRANS CAC DESC 1', 'TRANS DATE', 'BILLING GROSS AMT', 'TRANS VAT DESC'}\n",
      "Base data =  {'BILLING CUR CODE', 'ORIGINAL GROSS AMT', 'MERCHANT NAME', 'DIRECTORATE', 'TRANS CAC CODE 3', 'CARD NUMBER', 'TRANS CAC DESC 2', 'TRANS CAC CODE 2', 'TRANS CAC CODE 1', 'TRANS TAX RATE', 'ORIGINAL CUR', 'TRANS TAX AMT', 'TRANS CAC DESC 1', 'TRANS DATE', 'BILLING GROSS AMT', 'TRANS VAT DESC'}\n",
      "Result =  {'CARD NUMBER', 'TRANS CAC DESC 2', 'TRANS CAC CODE 2', 'TRANS CAC DESC 1', 'ORIGINAL CUR', 'BILLING GROSS AMT', 'TRANS CAC CODE 1', 'TRANS TAX RATE', 'TRANS VAT DESC', 'BILLING CUR CODE', 'TRANS DATE', 'ORIGINAL GROSS AMT', 'MERCHANT NAME', 'TRANS CAC CODE 3', 'TRANS TAX AMT', 'DIRECTORATE'}\n",
      "--------------------------------------------------------------------\n",
      "Intersection =  {'CARD NUMBER', 'TRANS CAC DESC 2', 'TRANS CAC CODE 2', 'TRANS CAC DESC 1', 'ORIGINAL CUR', 'BILLING GROSS AMT', 'TRANS CAC CODE 1', 'TRANS TAX RATE', 'TRANS VAT DESC', 'BILLING CUR CODE', 'TRANS DATE', 'ORIGINAL GROSS AMT', 'MERCHANT NAME', 'TRANS CAC CODE 3', 'TRANS TAX AMT', 'DIRECTORATE'}\n",
      "Base data =  {'BILLING CUR CODE', 'ORIGINAL GROSS AMT', 'MERCHANT NAME', 'DIRECTORATE', 'TRANS CAC CODE 3', 'CARD NUMBER', 'TRANS CAC DESC 2', 'TRANS CAC CODE 2', 'TRANS CAC CODE 1', 'TRANS TAX RATE', 'ORIGINAL CUR', 'TRANS TAX AMT', 'TRANS CAC DESC 1', 'TRANS DATE', 'BILLING GROSS AMT', 'TRANS VAT DESC'}\n",
      "Result =  {'BILLING CUR CODE', 'TRANS DATE', 'ORIGINAL GROSS AMT', 'TRANS VAT DESC', 'MERCHANT NAME', 'TRANS CAC CODE 3', 'CARD NUMBER', 'TRANS CAC DESC 2', 'TRANS CAC CODE 2', 'TRANS TAX RATE', 'ORIGINAL CUR', 'TRANS TAX AMT', 'TRANS CAC DESC 1', 'DIRECTORATE', 'BILLING GROSS AMT', 'TRANS CAC CODE 1'}\n",
      "--------------------------------------------------------------------\n",
      "Intersection =  {'BILLING CUR CODE', 'TRANS DATE', 'ORIGINAL GROSS AMT', 'TRANS VAT DESC', 'MERCHANT NAME', 'TRANS CAC CODE 3', 'CARD NUMBER', 'TRANS CAC DESC 2', 'TRANS CAC CODE 2', 'TRANS TAX RATE', 'ORIGINAL CUR', 'TRANS TAX AMT', 'TRANS CAC DESC 1', 'DIRECTORATE', 'BILLING GROSS AMT', 'TRANS CAC CODE 1'}\n",
      "Base data =  {'BILLING CUR CODE', 'ORIGINAL GROSS AMT', 'MERCHANT NAME', 'DIRECTORATE', 'TRANS CAC CODE 3', 'CARD NUMBER', 'TRANS CAC DESC 2', 'TRANS CAC CODE 2', 'TRANS CAC CODE 1', 'TRANS TAX RATE', 'ORIGINAL CUR', 'TRANS TAX AMT', 'TRANS CAC DESC 1', 'TRANS DATE', 'BILLING GROSS AMT', 'TRANS VAT DESC'}\n",
      "Result =  {'BILLING CUR CODE', 'TRANS DATE', 'ORIGINAL GROSS AMT', 'TRANS VAT DESC', 'MERCHANT NAME', 'TRANS CAC CODE 3', 'CARD NUMBER', 'TRANS CAC DESC 2', 'TRANS CAC CODE 2', 'TRANS TAX RATE', 'ORIGINAL CUR', 'TRANS TAX AMT', 'TRANS CAC DESC 1', 'DIRECTORATE', 'BILLING GROSS AMT', 'TRANS CAC CODE 1'}\n",
      "--------------------------------------------------------------------\n",
      "Intersection =  {'BILLING CUR CODE', 'TRANS DATE', 'ORIGINAL GROSS AMT', 'TRANS VAT DESC', 'MERCHANT NAME', 'TRANS CAC CODE 3', 'CARD NUMBER', 'TRANS CAC DESC 2', 'TRANS CAC CODE 2', 'TRANS TAX RATE', 'ORIGINAL CUR', 'TRANS TAX AMT', 'TRANS CAC DESC 1', 'DIRECTORATE', 'BILLING GROSS AMT', 'TRANS CAC CODE 1'}\n",
      "Base data =  {'BILLING CUR CODE', 'ORIGINAL GROSS AMT', 'MERCHANT NAME', 'DIRECTORATE', 'TRANS CAC CODE 3', 'CARD NUMBER', 'TRANS CAC DESC 2', 'TRANS CAC CODE 2', 'TRANS CAC CODE 1', 'TRANS TAX RATE', 'ORIGINAL CUR', 'TRANS TAX AMT', 'TRANS CAC DESC 1', 'TRANS DATE', 'BILLING GROSS AMT', 'TRANS VAT DESC'}\n",
      "Result =  {'BILLING CUR CODE', 'TRANS DATE', 'ORIGINAL GROSS AMT', 'TRANS VAT DESC', 'MERCHANT NAME', 'TRANS CAC CODE 3', 'CARD NUMBER', 'TRANS CAC DESC 2', 'TRANS CAC CODE 2', 'TRANS TAX RATE', 'ORIGINAL CUR', 'TRANS TAX AMT', 'TRANS CAC DESC 1', 'DIRECTORATE', 'BILLING GROSS AMT', 'TRANS CAC CODE 1'}\n",
      "--------------------------------------------------------------------\n",
      "Intersection =  {'BILLING CUR CODE', 'TRANS DATE', 'ORIGINAL GROSS AMT', 'TRANS VAT DESC', 'MERCHANT NAME', 'TRANS CAC CODE 3', 'CARD NUMBER', 'TRANS CAC DESC 2', 'TRANS CAC CODE 2', 'TRANS TAX RATE', 'ORIGINAL CUR', 'TRANS TAX AMT', 'TRANS CAC DESC 1', 'DIRECTORATE', 'BILLING GROSS AMT', 'TRANS CAC CODE 1'}\n",
      "Base data =  {'BILLING CUR CODE', 'ORIGINAL GROSS AMT', 'MERCHANT NAME', 'DIRECTORATE', 'TRANS CAC CODE 3', 'CARD NUMBER', 'TRANS CAC DESC 2', 'TRANS CAC CODE 2', 'TRANS CAC CODE 1', 'TRANS TAX RATE', 'ORIGINAL CUR', 'TRANS TAX AMT', 'TRANS CAC DESC 1', 'TRANS DATE', 'BILLING GROSS AMT', 'TRANS VAT DESC'}\n",
      "Result =  {'BILLING CUR CODE', 'TRANS DATE', 'ORIGINAL GROSS AMT', 'TRANS VAT DESC', 'MERCHANT NAME', 'TRANS CAC CODE 3', 'CARD NUMBER', 'TRANS CAC DESC 2', 'TRANS CAC CODE 2', 'TRANS TAX RATE', 'ORIGINAL CUR', 'TRANS TAX AMT', 'TRANS CAC DESC 1', 'DIRECTORATE', 'BILLING GROSS AMT', 'TRANS CAC CODE 1'}\n",
      "--------------------------------------\n",
      "--  mutual columns in all archives  --\n",
      "--------------------------------------\n",
      "{'BILLING CUR CODE', 'TRANS DATE', 'ORIGINAL GROSS AMT', 'TRANS VAT DESC', 'MERCHANT NAME', 'TRANS CAC CODE 3', 'CARD NUMBER', 'TRANS CAC DESC 2', 'TRANS CAC CODE 2', 'TRANS TAX RATE', 'ORIGINAL CUR', 'TRANS TAX AMT', 'TRANS CAC DESC 1', 'DIRECTORATE', 'BILLING GROSS AMT', 'TRANS CAC CODE 1'}\n"
     ]
    }
   ],
   "source": [
    "cross_columns = number_of_columns(working_path)"
   ]
  },
  {
   "cell_type": "code",
   "execution_count": 84,
   "metadata": {},
   "outputs": [
    {
     "data": {
      "text/plain": [
       "['2018-07.xls',\n",
       " '2018-08.xls',\n",
       " '2018-09.xls',\n",
       " '2018-10.xls',\n",
       " '2018-11.xls',\n",
       " '2018-12.xls']"
      ]
     },
     "execution_count": 84,
     "metadata": {},
     "output_type": "execute_result"
    }
   ],
   "source": [
    "### check if the files exist in the path.\n",
    "\n",
    "file_paths_list = [file for file in os.listdir(working_path) if '.xls' in file]\n",
    "file_paths_list"
   ]
  },
  {
   "cell_type": "markdown",
   "metadata": {},
   "source": [
    "### Unification of all xls files in a single dataset"
   ]
  },
  {
   "cell_type": "code",
   "execution_count": 85,
   "metadata": {},
   "outputs": [],
   "source": [
    "### Function to join all the data vertically in order to create a new dataframe and return it\n",
    "\n",
    "def unification_data(input_path, cross_columns):\n",
    "    # list all the files\n",
    "    archives = [file for file in os.listdir(input_path) if '.xls' in file]\n",
    "    splited_data = []\n",
    "    # Loop through the files and concatenate them based on matching columns\n",
    "    for archive in archives:\n",
    "    \n",
    "        table = os.path.splitext(archive)[0]\n",
    "        df = pd.read_excel(input_path + \"/\" + archive,usecols=cross_columns)\n",
    "        splited_data.append(df)\n",
    "        print(\"The volume information for the table \" + str(table) + \" is: \" + str(df.shape[0]))\n",
    "    unified_data_df = pd.DataFrame()\n",
    "    total_row_number = 0\n",
    "    for data in splited_data:\n",
    "        unified_data_df = pd.concat([unified_data_df, data])\n",
    "        volume_data = data.shape[0]\n",
    "        total_row_number = total_row_number + volume_data\n",
    "    print(\"The total of registers in the data must be \" + str(total_row_number))\n",
    "    print(\"The total of registers in the unified data is: \" + str(unified_data_df.shape[0]))\n",
    "   \n",
    "    return unified_data_df   \n"
   ]
  },
  {
   "cell_type": "code",
   "execution_count": 86,
   "metadata": {},
   "outputs": [
    {
     "name": "stdout",
     "output_type": "stream",
     "text": [
      "The volume information for the table 2018-07 is: 4097\n",
      "The volume information for the table 2018-08 is: 1405\n",
      "The volume information for the table 2018-09 is: 4460\n",
      "The volume information for the table 2018-10 is: 3799\n",
      "The volume information for the table 2018-11 is: 4098\n",
      "The volume information for the table 2018-12 is: 2936\n",
      "The total of registers in the data must be 20795\n",
      "The total of registers in the unified data is: 20795\n"
     ]
    }
   ],
   "source": [
    "# Join files\n",
    "unified_df = unification_data(working_path, cross_columns)"
   ]
  },
  {
   "cell_type": "code",
   "execution_count": 87,
   "metadata": {},
   "outputs": [
    {
     "data": {
      "text/html": [
       "<div>\n",
       "<style scoped>\n",
       "    .dataframe tbody tr th:only-of-type {\n",
       "        vertical-align: middle;\n",
       "    }\n",
       "\n",
       "    .dataframe tbody tr th {\n",
       "        vertical-align: top;\n",
       "    }\n",
       "\n",
       "    .dataframe thead th {\n",
       "        text-align: right;\n",
       "    }\n",
       "</style>\n",
       "<table border=\"1\" class=\"dataframe\">\n",
       "  <thead>\n",
       "    <tr style=\"text-align: right;\">\n",
       "      <th></th>\n",
       "      <th>TRANS DATE</th>\n",
       "      <th>TRANS VAT DESC</th>\n",
       "      <th>ORIGINAL GROSS AMT</th>\n",
       "      <th>ORIGINAL CUR</th>\n",
       "      <th>BILLING GROSS AMT</th>\n",
       "      <th>BILLING CUR CODE</th>\n",
       "      <th>TRANS TAX RATE</th>\n",
       "      <th>TRANS TAX AMT</th>\n",
       "      <th>MERCHANT NAME</th>\n",
       "      <th>CARD NUMBER</th>\n",
       "      <th>TRANS CAC CODE 1</th>\n",
       "      <th>TRANS CAC DESC 1</th>\n",
       "      <th>TRANS CAC CODE 2</th>\n",
       "      <th>TRANS CAC DESC 2</th>\n",
       "      <th>TRANS CAC CODE 3</th>\n",
       "      <th>DIRECTORATE</th>\n",
       "    </tr>\n",
       "  </thead>\n",
       "  <tbody>\n",
       "    <tr>\n",
       "      <th>0</th>\n",
       "      <td>2018-08-02</td>\n",
       "      <td>VR</td>\n",
       "      <td>68.0</td>\n",
       "      <td>GBP</td>\n",
       "      <td>68.0</td>\n",
       "      <td>GBP</td>\n",
       "      <td>20.0</td>\n",
       "      <td>11.33</td>\n",
       "      <td>beeches road servi</td>\n",
       "      <td>************5804</td>\n",
       "      <td>K020</td>\n",
       "      <td>Vehicle Fuel</td>\n",
       "      <td>RVA11</td>\n",
       "      <td>Beeches GOLDD</td>\n",
       "      <td>A00</td>\n",
       "      <td>Adult Social Care and Health</td>\n",
       "    </tr>\n",
       "    <tr>\n",
       "      <th>1</th>\n",
       "      <td>2018-07-26</td>\n",
       "      <td>VR</td>\n",
       "      <td>68.0</td>\n",
       "      <td>GBP</td>\n",
       "      <td>68.0</td>\n",
       "      <td>GBP</td>\n",
       "      <td>20.0</td>\n",
       "      <td>11.33</td>\n",
       "      <td>beeches road servi</td>\n",
       "      <td>************5804</td>\n",
       "      <td>K020</td>\n",
       "      <td>Vehicle Fuel</td>\n",
       "      <td>RVA11</td>\n",
       "      <td>Beeches GOLDD</td>\n",
       "      <td>A00</td>\n",
       "      <td>Adult Social Care and Health</td>\n",
       "    </tr>\n",
       "    <tr>\n",
       "      <th>2</th>\n",
       "      <td>2018-07-20</td>\n",
       "      <td>VR</td>\n",
       "      <td>60.0</td>\n",
       "      <td>GBP</td>\n",
       "      <td>60.0</td>\n",
       "      <td>GBP</td>\n",
       "      <td>20.0</td>\n",
       "      <td>10.00</td>\n",
       "      <td>mrh six ways</td>\n",
       "      <td>************5804</td>\n",
       "      <td>K020</td>\n",
       "      <td>Vehicle Fuel</td>\n",
       "      <td>RVA11</td>\n",
       "      <td>Beeches GOLDD</td>\n",
       "      <td>A00</td>\n",
       "      <td>Adult Social Care and Health</td>\n",
       "    </tr>\n",
       "  </tbody>\n",
       "</table>\n",
       "</div>"
      ],
      "text/plain": [
       "  TRANS DATE TRANS VAT DESC  ORIGINAL GROSS AMT ORIGINAL CUR  \\\n",
       "0 2018-08-02             VR                68.0          GBP   \n",
       "1 2018-07-26             VR                68.0          GBP   \n",
       "2 2018-07-20             VR                60.0          GBP   \n",
       "\n",
       "   BILLING GROSS AMT BILLING CUR CODE  TRANS TAX RATE  TRANS TAX AMT  \\\n",
       "0               68.0              GBP            20.0          11.33   \n",
       "1               68.0              GBP            20.0          11.33   \n",
       "2               60.0              GBP            20.0          10.00   \n",
       "\n",
       "        MERCHANT NAME       CARD NUMBER TRANS CAC CODE 1 TRANS CAC DESC 1  \\\n",
       "0  beeches road servi  ************5804             K020     Vehicle Fuel   \n",
       "1  beeches road servi  ************5804             K020     Vehicle Fuel   \n",
       "2        mrh six ways  ************5804             K020     Vehicle Fuel   \n",
       "\n",
       "  TRANS CAC CODE 2 TRANS CAC DESC 2 TRANS CAC CODE 3  \\\n",
       "0            RVA11    Beeches GOLDD              A00   \n",
       "1            RVA11    Beeches GOLDD              A00   \n",
       "2            RVA11    Beeches GOLDD              A00   \n",
       "\n",
       "                    DIRECTORATE  \n",
       "0  Adult Social Care and Health  \n",
       "1  Adult Social Care and Health  \n",
       "2  Adult Social Care and Health  "
      ]
     },
     "execution_count": 87,
     "metadata": {},
     "output_type": "execute_result"
    }
   ],
   "source": [
    "unified_df.head(3)"
   ]
  },
  {
   "cell_type": "code",
   "execution_count": 88,
   "metadata": {},
   "outputs": [
    {
     "name": "stdout",
     "output_type": "stream",
     "text": [
      "Amount of Rows:20795, Amount of Columns: 16\n"
     ]
    }
   ],
   "source": [
    "## Now I'll take a look at some statistical features\n",
    "df_filas,df_columnas = unified_df.shape[0], unified_df.shape[1]\n",
    "print(f'Amount of Rows:{df_filas}, Amount of Columns: {df_columnas}')"
   ]
  },
  {
   "cell_type": "markdown",
   "metadata": {},
   "source": [
    "Now, I check the null values in the entire dataset/. Then I will check the more important columns in order to evaluate what action take with these values"
   ]
  },
  {
   "cell_type": "code",
   "execution_count": 89,
   "metadata": {},
   "outputs": [
    {
     "data": {
      "text/plain": [
       "TRANS DATE              0\n",
       "TRANS VAT DESC        412\n",
       "ORIGINAL GROSS AMT      0\n",
       "ORIGINAL CUR            0\n",
       "BILLING GROSS AMT       0\n",
       "BILLING CUR CODE        0\n",
       "TRANS TAX RATE          0\n",
       "TRANS TAX AMT           0\n",
       "MERCHANT NAME           0\n",
       "CARD NUMBER             0\n",
       "TRANS CAC CODE 1       18\n",
       "TRANS CAC DESC 1       18\n",
       "TRANS CAC CODE 2       28\n",
       "TRANS CAC DESC 2       28\n",
       "TRANS CAC CODE 3       29\n",
       "DIRECTORATE             0\n",
       "dtype: int64"
      ]
     },
     "execution_count": 89,
     "metadata": {},
     "output_type": "execute_result"
    }
   ],
   "source": [
    "#check general null values\n",
    "unified_df.isnull().sum()"
   ]
  },
  {
   "cell_type": "code",
   "execution_count": 90,
   "metadata": {},
   "outputs": [
    {
     "data": {
      "text/plain": [
       "0"
      ]
     },
     "execution_count": 90,
     "metadata": {},
     "output_type": "execute_result"
    }
   ],
   "source": [
    "unified_df[\"TRANS DATE\"].isna().sum()"
   ]
  },
  {
   "cell_type": "code",
   "execution_count": 91,
   "metadata": {},
   "outputs": [
    {
     "data": {
      "text/plain": [
       "0"
      ]
     },
     "execution_count": 91,
     "metadata": {},
     "output_type": "execute_result"
    }
   ],
   "source": [
    "unified_df[\"ORIGINAL GROSS AMT\"].isna().sum()"
   ]
  },
  {
   "cell_type": "code",
   "execution_count": 92,
   "metadata": {},
   "outputs": [],
   "source": [
    "### Function to compute the % of missing data for each columns\n",
    "\n",
    "def missing_values_table(df_adf_append):\n",
    "    # Total missing values\n",
    "    mis_val = df_adf_append.isnull().sum()\n",
    "    \n",
    "    # % missing values\n",
    "    mis_val_percent = 100 * df_adf_append.isnull().sum() / len(df_adf_append)\n",
    "    \n",
    "    # Table for present results\n",
    "    mis_val_table = pd.concat([mis_val, mis_val_percent], axis=1)\n",
    "    mis_val_table_ren_columns = mis_val_table.rename(\n",
    "    columns = {0 : 'Missing ', 1 : '% of Total Values'})\n",
    "    \n",
    "    # Sort missing values from highest to lowest\n",
    "    mis_val_table_ren_columns = mis_val_table_ren_columns[\n",
    "        mis_val_table_ren_columns.iloc[:,1] != 0].sort_values(\n",
    "    '% of Total Values', ascending=False).round(1)\n",
    "    \n",
    "    # Print resume\n",
    "    print (\"Dataframe has \" + str(df_adf_append.shape[1]) + \" columnas.\\n\"      \n",
    "        \"of which \" + str(mis_val_table_ren_columns.shape[0]) +\n",
    "            \" have missing values.\")\n",
    "    \n",
    "    # Return the dataframe with missing information\n",
    "    return mis_val_table_ren_columns"
   ]
  },
  {
   "cell_type": "code",
   "execution_count": 93,
   "metadata": {},
   "outputs": [
    {
     "name": "stdout",
     "output_type": "stream",
     "text": [
      "Dataframe has 16 columnas.\n",
      "of which 6 have missing values.\n"
     ]
    },
    {
     "data": {
      "text/html": [
       "<div>\n",
       "<style scoped>\n",
       "    .dataframe tbody tr th:only-of-type {\n",
       "        vertical-align: middle;\n",
       "    }\n",
       "\n",
       "    .dataframe tbody tr th {\n",
       "        vertical-align: top;\n",
       "    }\n",
       "\n",
       "    .dataframe thead th {\n",
       "        text-align: right;\n",
       "    }\n",
       "</style>\n",
       "<table border=\"1\" class=\"dataframe\">\n",
       "  <thead>\n",
       "    <tr style=\"text-align: right;\">\n",
       "      <th></th>\n",
       "      <th>Missing</th>\n",
       "      <th>% of Total Values</th>\n",
       "    </tr>\n",
       "  </thead>\n",
       "  <tbody>\n",
       "    <tr>\n",
       "      <th>TRANS VAT DESC</th>\n",
       "      <td>412</td>\n",
       "      <td>2.0</td>\n",
       "    </tr>\n",
       "    <tr>\n",
       "      <th>TRANS CAC CODE 3</th>\n",
       "      <td>29</td>\n",
       "      <td>0.1</td>\n",
       "    </tr>\n",
       "    <tr>\n",
       "      <th>TRANS CAC CODE 2</th>\n",
       "      <td>28</td>\n",
       "      <td>0.1</td>\n",
       "    </tr>\n",
       "    <tr>\n",
       "      <th>TRANS CAC DESC 2</th>\n",
       "      <td>28</td>\n",
       "      <td>0.1</td>\n",
       "    </tr>\n",
       "    <tr>\n",
       "      <th>TRANS CAC CODE 1</th>\n",
       "      <td>18</td>\n",
       "      <td>0.1</td>\n",
       "    </tr>\n",
       "    <tr>\n",
       "      <th>TRANS CAC DESC 1</th>\n",
       "      <td>18</td>\n",
       "      <td>0.1</td>\n",
       "    </tr>\n",
       "  </tbody>\n",
       "</table>\n",
       "</div>"
      ],
      "text/plain": [
       "                  Missing   % of Total Values\n",
       "TRANS VAT DESC         412                2.0\n",
       "TRANS CAC CODE 3        29                0.1\n",
       "TRANS CAC CODE 2        28                0.1\n",
       "TRANS CAC DESC 2        28                0.1\n",
       "TRANS CAC CODE 1        18                0.1\n",
       "TRANS CAC DESC 1        18                0.1"
      ]
     },
     "execution_count": 93,
     "metadata": {},
     "output_type": "execute_result"
    }
   ],
   "source": [
    "missing_values = missing_values_table(unified_df)\n",
    "missing_values\n"
   ]
  },
  {
   "cell_type": "code",
   "execution_count": 94,
   "metadata": {},
   "outputs": [
    {
     "data": {
      "image/png": "[encoded data removed]",
      "text/plain": [
       "<Figure size 640x480 with 1 Axes>"
      ]
     },
     "metadata": {},
     "output_type": "display_data"
    }
   ],
   "source": [
    "#### PLOT for  represent the number of nulls in each of the columns, and % against the total number of records\n",
    "\n",
    "umbral_nan = 10\n",
    "\n",
    "df_nan = pd.DataFrame(unified_df.isnull().sum()).reset_index(level=0)\n",
    "df_nan.rename(columns={\"index\": \"columna\", 0: \"num_nulos\"}, inplace=True)\n",
    "df_nan['pct_nulos'] = (df_nan['num_nulos']/df_filas)*100\n",
    "\n",
    "df_nan.sort_values(by=['pct_nulos'], ascending=False).iloc[0:11,:].plot.barh(x='columna', \n",
    "                                                                             y='pct_nulos', color='darkgray')\n",
    "\n",
    "plt.axvline(umbral_nan, color='red', linestyle='--');"
   ]
  },
  {
   "cell_type": "markdown",
   "metadata": {},
   "source": [
    "There is only 2% of the data that are null values which is good. The red line indicates a limit which can be modified to evaluate the number of maximum null values that can be admitted. This allows you to define a rule or dimension to make the decision to modify or delete that data."
   ]
  },
  {
   "cell_type": "code",
   "execution_count": 95,
   "metadata": {},
   "outputs": [
    {
     "name": "stdout",
     "output_type": "stream",
     "text": [
      "Total null data in the entire dataframe: 533\n"
     ]
    }
   ],
   "source": [
    "print(f\"Total null data in the entire dataframe: {unified_df.isnull().sum(axis=1).sum(axis=0)}\")"
   ]
  },
  {
   "cell_type": "markdown",
   "metadata": {},
   "source": [
    "Null values should not be imputed in the column called \"ORIGINAL GROSS AMT\", and bearing in mind that there is no a significant number of null records, we proceed to change those."
   ]
  },
  {
   "cell_type": "code",
   "execution_count": 96,
   "metadata": {},
   "outputs": [
    {
     "name": "stdout",
     "output_type": "stream",
     "text": [
      "Para la columna TRANS VAT DESC (object) se reemplazan 412 nulos por la moda VZ\n",
      "La columna ORIGINAL GROSS AMT (float64) no tiene nulos\n",
      "La columna ORIGINAL CUR (object) no tiene nulos\n",
      "La columna BILLING GROSS AMT (float64) no tiene nulos\n",
      "La columna BILLING CUR CODE (object) no tiene nulos\n",
      "La columna TRANS TAX RATE (float64) no tiene nulos\n",
      "La columna TRANS TAX AMT (float64) no tiene nulos\n",
      "La columna MERCHANT NAME (object) no tiene nulos\n",
      "La columna CARD NUMBER (object) no tiene nulos\n",
      "Para la columna TRANS CAC CODE 1 (object) se reemplazan 18 nulos por la moda L100\n",
      "Para la columna TRANS CAC DESC 1 (object) se reemplazan 18 nulos por la moda Equip Operational\n",
      "Para la columna TRANS CAC CODE 2 (object) se reemplazan 28 nulos por la moda RUF0F\n",
      "Para la columna TRANS CAC DESC 2 (object) se reemplazan 28 nulos por la moda Illegal Money Lending T Stds Comm Inv.\n",
      "Para la columna TRANS CAC CODE 3 (object) se reemplazan 29 nulos por la moda A00\n",
      "La columna DIRECTORATE (object) no tiene nulos\n"
     ]
    }
   ],
   "source": [
    "# Imputes null data from numerical columns, replacing them with the median\n",
    " \n",
    "for indice, fila in pd.DataFrame(unified_df.dtypes).iterrows():\n",
    "    columna = indice\n",
    "    tipo_col = fila[0]\n",
    "    cant_nulos_col = unified_df[columna].isnull().sum()\n",
    "    \n",
    "    # If it is numerical, replace it with the median\n",
    "    if (tipo_col ==\"int64\") | (tipo_col == \"float64\"):\n",
    "        if (cant_nulos_col>0):\n",
    "            mediana = unified_df[columna].median()\n",
    "            unified_df[columna].fillna(mediana, inplace=True)\n",
    "            print(f'Para la columna {columna} ({tipo_col}) se reemplazan {cant_nulos_col} nulos por la mediana {mediana}')\n",
    "        else:\n",
    "            print(f'La columna {columna} ({tipo_col}) no tiene nulos')\n",
    "    \n",
    "    # If it is categorical, replace it with the fashion measure (mode measu)\n",
    "    elif (tipo_col ==\"object\"):\n",
    "        if (cant_nulos_col>0):\n",
    "            moda = unified_df[columna].mode().iloc[0]\n",
    "            unified_df[columna].fillna(moda, inplace=True)\n",
    "            print(f'Para la columna {columna} ({tipo_col}) se reemplazan {cant_nulos_col} nulos por la moda {moda}')\n",
    "        else:\n",
    "            print(f'La columna {columna} ({tipo_col}) no tiene nulos')"
   ]
  },
  {
   "cell_type": "code",
   "execution_count": 97,
   "metadata": {},
   "outputs": [
    {
     "name": "stdout",
     "output_type": "stream",
     "text": [
      "Total null data in the entire dataframe after imputation: 0\n"
     ]
    }
   ],
   "source": [
    "### Check if exist more null values after the preprocessing.\n",
    "\n",
    "print(f\"Total null data in the entire dataframe after imputation: {unified_df.isnull().sum(axis=1).sum(axis=0)}\")"
   ]
  },
  {
   "cell_type": "code",
   "execution_count": 98,
   "metadata": {},
   "outputs": [
    {
     "data": {
      "text/html": [
       "<div>\n",
       "<style scoped>\n",
       "    .dataframe tbody tr th:only-of-type {\n",
       "        vertical-align: middle;\n",
       "    }\n",
       "\n",
       "    .dataframe tbody tr th {\n",
       "        vertical-align: top;\n",
       "    }\n",
       "\n",
       "    .dataframe thead th {\n",
       "        text-align: right;\n",
       "    }\n",
       "</style>\n",
       "<table border=\"1\" class=\"dataframe\">\n",
       "  <thead>\n",
       "    <tr style=\"text-align: right;\">\n",
       "      <th></th>\n",
       "      <th>TRANS DATE</th>\n",
       "      <th>TRANS VAT DESC</th>\n",
       "      <th>ORIGINAL GROSS AMT</th>\n",
       "      <th>ORIGINAL CUR</th>\n",
       "      <th>BILLING GROSS AMT</th>\n",
       "      <th>BILLING CUR CODE</th>\n",
       "      <th>TRANS TAX RATE</th>\n",
       "      <th>TRANS TAX AMT</th>\n",
       "      <th>MERCHANT NAME</th>\n",
       "      <th>CARD NUMBER</th>\n",
       "      <th>TRANS CAC CODE 1</th>\n",
       "      <th>TRANS CAC DESC 1</th>\n",
       "      <th>TRANS CAC CODE 2</th>\n",
       "      <th>TRANS CAC DESC 2</th>\n",
       "      <th>TRANS CAC CODE 3</th>\n",
       "      <th>DIRECTORATE</th>\n",
       "      <th>TRANS_DATE_YM</th>\n",
       "      <th>TRANS_DATE_Y</th>\n",
       "      <th>TRANS_DATE_M</th>\n",
       "      <th>TRANS_DATE_D</th>\n",
       "    </tr>\n",
       "  </thead>\n",
       "  <tbody>\n",
       "    <tr>\n",
       "      <th>0</th>\n",
       "      <td>2018-08-02</td>\n",
       "      <td>VR</td>\n",
       "      <td>68.0</td>\n",
       "      <td>GBP</td>\n",
       "      <td>68.0</td>\n",
       "      <td>GBP</td>\n",
       "      <td>20.0</td>\n",
       "      <td>11.33</td>\n",
       "      <td>beeches road servi</td>\n",
       "      <td>************5804</td>\n",
       "      <td>K020</td>\n",
       "      <td>Vehicle Fuel</td>\n",
       "      <td>RVA11</td>\n",
       "      <td>Beeches GOLDD</td>\n",
       "      <td>A00</td>\n",
       "      <td>Adult Social Care and Health</td>\n",
       "      <td>2018-08</td>\n",
       "      <td>2018</td>\n",
       "      <td>08</td>\n",
       "      <td>02</td>\n",
       "    </tr>\n",
       "    <tr>\n",
       "      <th>1</th>\n",
       "      <td>2018-07-26</td>\n",
       "      <td>VR</td>\n",
       "      <td>68.0</td>\n",
       "      <td>GBP</td>\n",
       "      <td>68.0</td>\n",
       "      <td>GBP</td>\n",
       "      <td>20.0</td>\n",
       "      <td>11.33</td>\n",
       "      <td>beeches road servi</td>\n",
       "      <td>************5804</td>\n",
       "      <td>K020</td>\n",
       "      <td>Vehicle Fuel</td>\n",
       "      <td>RVA11</td>\n",
       "      <td>Beeches GOLDD</td>\n",
       "      <td>A00</td>\n",
       "      <td>Adult Social Care and Health</td>\n",
       "      <td>2018-07</td>\n",
       "      <td>2018</td>\n",
       "      <td>07</td>\n",
       "      <td>26</td>\n",
       "    </tr>\n",
       "    <tr>\n",
       "      <th>2</th>\n",
       "      <td>2018-07-20</td>\n",
       "      <td>VR</td>\n",
       "      <td>60.0</td>\n",
       "      <td>GBP</td>\n",
       "      <td>60.0</td>\n",
       "      <td>GBP</td>\n",
       "      <td>20.0</td>\n",
       "      <td>10.00</td>\n",
       "      <td>mrh six ways</td>\n",
       "      <td>************5804</td>\n",
       "      <td>K020</td>\n",
       "      <td>Vehicle Fuel</td>\n",
       "      <td>RVA11</td>\n",
       "      <td>Beeches GOLDD</td>\n",
       "      <td>A00</td>\n",
       "      <td>Adult Social Care and Health</td>\n",
       "      <td>2018-07</td>\n",
       "      <td>2018</td>\n",
       "      <td>07</td>\n",
       "      <td>20</td>\n",
       "    </tr>\n",
       "  </tbody>\n",
       "</table>\n",
       "</div>"
      ],
      "text/plain": [
       "   TRANS DATE TRANS VAT DESC  ORIGINAL GROSS AMT ORIGINAL CUR  \\\n",
       "0  2018-08-02             VR                68.0          GBP   \n",
       "1  2018-07-26             VR                68.0          GBP   \n",
       "2  2018-07-20             VR                60.0          GBP   \n",
       "\n",
       "   BILLING GROSS AMT BILLING CUR CODE  TRANS TAX RATE  TRANS TAX AMT  \\\n",
       "0               68.0              GBP            20.0          11.33   \n",
       "1               68.0              GBP            20.0          11.33   \n",
       "2               60.0              GBP            20.0          10.00   \n",
       "\n",
       "        MERCHANT NAME       CARD NUMBER TRANS CAC CODE 1 TRANS CAC DESC 1  \\\n",
       "0  beeches road servi  ************5804             K020     Vehicle Fuel   \n",
       "1  beeches road servi  ************5804             K020     Vehicle Fuel   \n",
       "2        mrh six ways  ************5804             K020     Vehicle Fuel   \n",
       "\n",
       "  TRANS CAC CODE 2 TRANS CAC DESC 2 TRANS CAC CODE 3  \\\n",
       "0            RVA11    Beeches GOLDD              A00   \n",
       "1            RVA11    Beeches GOLDD              A00   \n",
       "2            RVA11    Beeches GOLDD              A00   \n",
       "\n",
       "                    DIRECTORATE TRANS_DATE_YM TRANS_DATE_Y TRANS_DATE_M  \\\n",
       "0  Adult Social Care and Health       2018-08         2018           08   \n",
       "1  Adult Social Care and Health       2018-07         2018           07   \n",
       "2  Adult Social Care and Health       2018-07         2018           07   \n",
       "\n",
       "  TRANS_DATE_D  \n",
       "0           02  \n",
       "1           26  \n",
       "2           20  "
      ]
     },
     "execution_count": 98,
     "metadata": {},
     "output_type": "execute_result"
    }
   ],
   "source": [
    "### Finally, I create other files related with the date column, I create new columns with the year-month, year, month and day by separated.\n",
    "\n",
    "unified_df['TRANS DATE'] = unified_df['TRANS DATE'].astype(str)\n",
    "unified_df['TRANS DATE'] = unified_df['TRANS DATE'].str[:10]\n",
    "unified_df['TRANS_DATE_YM'] = unified_df['TRANS DATE'].str[:7]\n",
    "unified_df['TRANS_DATE_Y'] = unified_df['TRANS DATE'].str[:4]\n",
    "unified_df['TRANS_DATE_M'] = unified_df['TRANS DATE'].str[5:7]\n",
    "unified_df['TRANS_DATE_D'] = unified_df['TRANS DATE'].str[8:10]\n",
    "unified_df.head(3)"
   ]
  },
  {
   "cell_type": "code",
   "execution_count": null,
   "metadata": {},
   "outputs": [],
   "source": []
  },
  {
   "cell_type": "code",
   "execution_count": 99,
   "metadata": {},
   "outputs": [
    {
     "data": {
      "text/plain": [
       "array(['Vehicle Fuel', 'Supplies & Sev Mic', 'Equip Other',\n",
       "       'Vehicle Excise Lics', 'Other Services', 'Licences & Permits',\n",
       "       'Purchases Food', 'Photocopying', 'Hospitality',\n",
       "       'Vehicle OthrunCosts', \"Mat'l Raw/Drct\", 'Travel Taxis', 'Postage',\n",
       "       'Equip Operational', 'Accomodation Hire', 'Training Other',\n",
       "       'Laundry', 'Conference Fees Subs Foreign', 'Travel Bus/Rail',\n",
       "       'Travel Foreign', 'Electricity', 'Car Parking',\n",
       "       'MaChRobes&CivicGifts', 'Prof Fees other', 'Contract Meals',\n",
       "       'Legal Fee Other', 'Computing Other', 'Conference Fees Subs UK',\n",
       "       'Books', 'Stationery', 'Oth Indirect EmpExps',\n",
       "       'Bldg RM Departmental', 'Gas', 'Water Services',\n",
       "       'Phon NonCentrx Lines', 'Subscriptions', \"Fire/Sec'yAlarm/Eq't\",\n",
       "       'Visits Expenditure', 'Personal Needs', 'In Year Credits',\n",
       "       'Cleaning Materials', 'Bldg RM Fair Fund NS', 'Vehicle R&M',\n",
       "       'Other Fix&Fittings', 'Clothing&Uniforms', 'Catering Disposables',\n",
       "       'Training Tutor Fees', 'Equip Hire/Op Lease', 'Equip Office',\n",
       "       'Bank & Goro ChgsS', 'Transport Misc', \"N'Papers&Periodicals\",\n",
       "       \"Training EquipMat'ls\", 'Premises Misc', 'Equip Maintenance',\n",
       "       'Ttavel Other (UK)', 'Entertainers/Artists',\n",
       "       'Discretionary Awards', 'HR&M Mait of Gas App',\n",
       "       'Bldg RM Emergy UDD', \"Purchases Othermat'l\",\n",
       "       'Vehicle Hire Charge', 'Training Travel&Subs',\n",
       "       'Promotions/Marketing', 'Mobiles/Radios/Pagrs',\n",
       "       'Grounds Maintenance', 'Floral Decorations', 'Translations', 'Oil',\n",
       "       'CSDP Act Telephones', 'Premises Provisions', 'Consultancy Fees',\n",
       "       'Car Allowances etc', 'GoodsPurchforResale', 'Other Agencies',\n",
       "       'Advertising NonStaff', 'Other Third Parties',\n",
       "       'Cleaning Contractor', 'Staff Advert Exp', 'HR&M NRC Contingency',\n",
       "       \"Signs & N'boards\", 'Graveliner/Concrete', 'Phon Centrx Netwk',\n",
       "       'AMO - Lighting', 'AsbestosSurveys&Wrks', 'UDD Cntrlld Rpr Exp',\n",
       "       'Security Contracts', 'Printing BulkCopying', 'Plant R&M General',\n",
       "       'Exam Fees', 'SchGovBrds Clerks', 'Inspections Fees',\n",
       "       'Burials & Cremations', 'Other Grants', 'Bldg RM Routine UDD',\n",
       "       'Disinfestation', 'Premises Insurance', 'Bldg RM Fair Fund S',\n",
       "       'HR&M Essential&Misc', 'Insurance NonPremise', 'Bookbinding',\n",
       "       'HR&M Fire Protection', 'Rates'], dtype=object)"
      ]
     },
     "execution_count": 99,
     "metadata": {},
     "output_type": "execute_result"
    }
   ],
   "source": [
    "unified_df[\"TRANS CAC DESC 1\"].str.strip().unique()"
   ]
  },
  {
   "cell_type": "code",
   "execution_count": 100,
   "metadata": {},
   "outputs": [
    {
     "data": {
      "text/plain": [
       "array(['Adult Social Care and Health', 'Corporate Resources', 'CYP&F',\n",
       "       'CYP&F  ', 'CYP&F SCHOOLS', 'DEVELOPMENT', 'Development',\n",
       "       'Local Services', 'CYP&F Schools'], dtype=object)"
      ]
     },
     "execution_count": 100,
     "metadata": {},
     "output_type": "execute_result"
    }
   ],
   "source": [
    "unified_df[\"DIRECTORATE\"].unique()"
   ]
  },
  {
   "cell_type": "code",
   "execution_count": 101,
   "metadata": {},
   "outputs": [],
   "source": [
    "def trim_columns(df, col_list):\n",
    "    for column in col_list:\n",
    "        df[column] = df[column].str.strip() "
   ]
  },
  {
   "cell_type": "code",
   "execution_count": 102,
   "metadata": {},
   "outputs": [],
   "source": [
    "trim_columns(unified_df, [\"MERCHANT NAME\",\"TRANS CAC DESC 1\",\"TRANS CAC CODE 1\",\"TRANS CAC CODE 2\", \"TRANS CAC DESC 2\",\"DIRECTORATE\"])"
   ]
  },
  {
   "cell_type": "code",
   "execution_count": 103,
   "metadata": {},
   "outputs": [
    {
     "data": {
      "text/plain": [
       "array(['Adult Social Care and Health', 'Corporate Resources', 'CYP&F',\n",
       "       'CYP&F SCHOOLS', 'DEVELOPMENT', 'Development', 'Local Services',\n",
       "       'CYP&F Schools'], dtype=object)"
      ]
     },
     "execution_count": 103,
     "metadata": {},
     "output_type": "execute_result"
    }
   ],
   "source": [
    "unified_df[\"DIRECTORATE\"].unique()"
   ]
  },
  {
   "cell_type": "code",
   "execution_count": 104,
   "metadata": {},
   "outputs": [],
   "source": [
    "### I store the data to use in the next files\n",
    "unified_df.to_csv(output_unified_data + file_name_output, header=True, sep=\",\", index=False)"
   ]
  }
 ],
 "metadata": {
  "kernelspec": {
   "display_name": "Python 3",
   "language": "python",
   "name": "python3"
  },
  "language_info": {
   "codemirror_mode": {
    "name": "ipython",
    "version": 3
   },
   "file_extension": ".py",
   "mimetype": "text/x-python",
   "name": "python",
   "nbconvert_exporter": "python",
   "pygments_lexer": "ipython3",
   "version": "3.12.1"
  }
 },
 "nbformat": 4,
 "nbformat_minor": 2
}
